{
 "cells": [
  {
   "cell_type": "code",
   "execution_count": null,
   "metadata": {},
   "outputs": [],
   "source": [
    "from PIL import Image\n",
    "import numpy as np\n",
    "from glob import glob\n",
    "from tqdm import tqdm\n",
    "import matplotlib.pyplot as plt\n",
    "%matplotlib inline\n",
    "import os"
   ]
  },
  {
   "cell_type": "code",
   "execution_count": null,
   "metadata": {},
   "outputs": [],
   "source": [
    "dataroot = '/opt/ml/segmentation/input/data'\n",
    "\n",
    "all_paths = glob(os.path.join(dataroot, '**', '*.jpg'))\n",
    "print(len(all_paths))\n",
    "\n",
    "r = []\n",
    "g = []\n",
    "b = []\n",
    "\n",
    "for path in tqdm(all_paths):\n",
    "    img = np.array(Image.open(path))\n",
    "    r.append(img[:,:,0])\n",
    "    g.append(img[:,:,1])\n",
    "    b.append(img[:,:,2])\n",
    "\n",
    "print(np.mean(r))\n",
    "print(np.mean(g))\n",
    "print(np.mean(b))\n",
    "\n",
    "print(np.std(r))\n",
    "print(np.std(g))\n",
    "print(np.std(b))\n"
   ]
  },
  {
   "cell_type": "code",
   "execution_count": null,
   "metadata": {},
   "outputs": [],
   "source": []
  }
 ],
 "metadata": {
  "kernelspec": {
   "display_name": "Python 3.7.11 64-bit ('psc': conda)",
   "name": "python3711jvsc74a57bd08e5f15054793da42435bf5fab16ae8e9de46dcdb34cd5863606910f8a168e642"
  },
  "language_info": {
   "name": "python",
   "version": ""
  },
  "metadata": {
   "interpreter": {
    "hash": "8e5f15054793da42435bf5fab16ae8e9de46dcdb34cd5863606910f8a168e642"
   }
  },
  "orig_nbformat": 2
 },
 "nbformat": 4,
 "nbformat_minor": 2
}